{
 "cells": [
  {
   "cell_type": "code",
   "execution_count": 4,
   "metadata": {},
   "outputs": [],
   "source": [
    "import build_a_brain as bb\n",
    "import numpy as np\n",
    "import matplotlib.pyplot as plt\n",
    "import tkinter as tk\n",
    "from tkinter import ttk\n",
    "from matplotlib.figure import Figure\n",
    "from matplotlib.backends.backend_tkagg import FigureCanvasTkAgg\n"
   ]
  },
  {
   "cell_type": "code",
   "execution_count": 5,
   "metadata": {},
   "outputs": [],
   "source": [
    "# Use front end user friendly approach\n",
    "bb.build_network_interface()"
   ]
  },
  {
   "cell_type": "code",
   "execution_count": 6,
   "metadata": {},
   "outputs": [],
   "source": [
    "# Use back end approach\n",
    "# root = -1 and progress = -1 when using this approach\n",
    "net, all_spikes, all_voltages = bb.run_simulation(root=-1, progress=-1, num_steps=1000,\n",
    "                                                    layer_1_size=100,\n",
    "                                                    layer_2_size=100,\n",
    "                                                    layer_3_size=100,\n",
    "                                                    layer_4_size=100,\n",
    "                                                    layer_5_size=100,\n",
    "                                                    connectivity_matrix = np.array([[0,0,0.02,0.02,0.01],\n",
    "                                                                                    [0.001,0.001,0,0.001,0.01],\n",
    "                                                                                    [0.001,0.001,0.01,0,0.001],\n",
    "                                                                                    [0.01,0.01,0.01,0,0.01],\n",
    "                                                                                    [0.001,0.001,0.01,0.001,0]]),\n",
    "                                                                                    driving_layer = 3,\n",
    "                                                                                    driving_neuron_nums = 50)"
   ]
  },
  {
   "cell_type": "code",
   "execution_count": 9,
   "metadata": {},
   "outputs": [],
   "source": [
    "net, spikes, voltages = bb.run_simulation(-1, -1, num_steps = 100,\n",
    "                    layer_1_size = 1000,\n",
    "                    layer_2_size = 1000,\n",
    "                    layer_3_size = 1000,\n",
    "                    layer_4_size = 1000,\n",
    "                    layer_5_size = 1000,\n",
    "                    connectivity_matrix = np.array([[0,0,0.02,0.02,0.01],\n",
    "                                                    [0.001,0.001,0,0.001,0.01],\n",
    "                                                    [0.001,0.001,0.01,0,0.001],\n",
    "                                                    [0.01,0.01,0.01,0,0.01],\n",
    "                                                    [0.001,0.001,0.01,0.001,0]]),\n",
    "                    driving_layer = 3,\n",
    "                    driving_neuron_nums = 20)"
   ]
  }
 ],
 "metadata": {
  "kernelspec": {
   "display_name": "base",
   "language": "python",
   "name": "python3"
  },
  "language_info": {
   "codemirror_mode": {
    "name": "ipython",
    "version": 3
   },
   "file_extension": ".py",
   "mimetype": "text/x-python",
   "name": "python",
   "nbconvert_exporter": "python",
   "pygments_lexer": "ipython3",
   "version": "3.11.7"
  }
 },
 "nbformat": 4,
 "nbformat_minor": 2
}
